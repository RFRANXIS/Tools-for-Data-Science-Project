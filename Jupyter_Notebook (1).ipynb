{
 "cells": [
  {
   "cell_type": "markdown",
   "metadata": {},
   "source": [
    "<center>\n",
    "    <img src=\"https://cf-courses-data.s3.us.cloud-object-storage.appdomain.cloud/IBMDeveloperSkillsNetwork-DS0105EN-SkillsNetwork/labs/Module2/images/SN_web_lightmode.png\" width=\"300\" alt=\"cognitiveclass.ai logo\">\n",
    "</center>\n"
   ]
  },
  {
   "cell_type": "markdown",
   "metadata": {},
   "source": [
    "#### Add your code below following the instructions given in the course\n"
   ]
  },
  {
   "cell_type": "code",
   "execution_count": null,
   "metadata": {},
   "outputs": [],
   "source": [
    "Data Science tools and Ecosystem: This course decribes the various tools used by data scientists and the various ecosystems from which these tools are used.\n",
    "\n",
    "Objectives:\n",
    "\n",
    "Creating Tables In Jupyter Notebooks\n",
    "Data Science tools\n",
    "Markdowns\n",
    "Some of the popular languages used by data scientists are: Python R Scala\n",
    "\n",
    "### Below are a few examples of evaluating arithmetic expressions in Python\n",
    "(3*4)+5.\n",
    "17.0\n",
    "###This will convert 200 minutes to hours by diving by 60\n",
    "200/60\n",
    "3.3333333333333335\n",
    "## Author \n",
    "Rohan Francis\n",
    "\n"
   ]
  },
  {
   "cell_type": "code",
   "execution_count": null,
   "metadata": {},
   "outputs": [],
   "source": [
    "Some commonly used libararies by data scientists include: Scikitlearn Matplotlib Pandas\n",
    "\n",
    "Data Science Tools\n",
    "Jupyter Notebooks\n",
    "VS Code\n",
    "PyCharm"
   ]
  }
 ],
 "metadata": {
  "kernelspec": {
   "display_name": "Python",
   "language": "python",
   "name": "conda-env-python-py"
  },
  "language_info": {
   "codemirror_mode": {
    "name": "ipython",
    "version": 3
   },
   "file_extension": ".py",
   "mimetype": "text/x-python",
   "name": "python",
   "nbconvert_exporter": "python",
   "pygments_lexer": "ipython3",
   "version": "3.7.12"
  }
 },
 "nbformat": 4,
 "nbformat_minor": 4
}
